{
 "cells": [
  {
   "cell_type": "code",
   "execution_count": 26,
   "metadata": {},
   "outputs": [],
   "source": [
    "import tensorflow as tf\n",
    "from tensorflow import keras\n",
    "from keras.models import Sequential\n",
    "from keras.layers import Dense\n",
    "from keras.layers import Flatten\n",
    "from keras.layers import Dropout\n",
    "from keras.layers.convolutional import Conv1D,Conv1DTranspose\n",
    "from keras.layers.convolutional import MaxPooling1D\n",
    "from keras.layers import LSTM, Bidirectional,ConvLSTM1D,GRU,SimpleRNN\n",
    "from keras.layers import TimeDistributed,GaussianNoise,Normalization\n",
    "from keras.layers import RepeatVector,Reshape\n",
    "from keras.layers import Input\n",
    "# from attention import Attention \n",
    "\n",
    "from keras.layers import BatchNormalization,LayerNormalization,UpSampling1D,Dropout\n",
    "from keras.preprocessing.image import img_to_array, array_to_img\n",
    "from keras.preprocessing.image import load_img\n",
    "import numpy as np\n",
    "from numpy import genfromtxt\n",
    "import cv2\n",
    "from sklearn.model_selection import train_test_split\n",
    "from scipy.integrate import odeint\n",
    "from sklearn import preprocessing\n",
    "from sklearn.decomposition import PCA\n",
    "from scipy.interpolate import CubicSpline\n",
    "from sklearn.preprocessing import MinMaxScaler\n",
    "\n",
    "\n",
    "# physical_devices = tf.config.list_physical_devices('GPU')\n",
    "# tf.config.experimental.set_memory_growth(physical_devices[0], True)"
   ]
  },
  {
   "cell_type": "code",
   "execution_count": 27,
   "metadata": {},
   "outputs": [
    {
     "name": "stdout",
     "output_type": "stream",
     "text": [
      "(155, 9, 1) (155, 9)\n",
      "(14, 9, 1) (14, 9)\n",
      "(4, 9, 1) (4, 9)\n"
     ]
    }
   ],
   "source": [
    "#shuffler\n",
    "def unison_shuffled_copies(a, b):\n",
    "    assert len(a) == len(b)\n",
    "    p = np.random.permutation(len(a))\n",
    "    return a[p], b[p]\n",
    "    \n",
    "X_Dat=[]\n",
    "\n",
    "\n",
    "\n",
    "data_size=173\n",
    "num_par=9\n",
    "\n",
    "\n",
    "\n",
    "Y=np.zeros((data_size,num_par))\n",
    "X=np.zeros((data_size,num_par))\n",
    "\n",
    "for i in range(data_size): \n",
    "  outputer = genfromtxt(\"D:\\Research_work\\COVID_paper\\My_covid_research\\dataset_preprocessing\\parameter_estim\\output\\parameters_ \"+str(i)+\" .csv\", delimiter=',')\n",
    "  inputer = genfromtxt(\"D:\\Research_work\\COVID_paper\\My_covid_research\\dataset_preprocessing\\sub_dataset_gen\\output_sg_interpolated\\parameters_ \"+str(i)+\" .csv\", delimiter=',')\n",
    "  inter=inputer[0:inputer.size:3]\n",
    "  outer=outputer\n",
    "  X[i,0:num_par]=inter[0:num_par]\n",
    "  Y[i,0:num_par]=outer[0:num_par]\n",
    "\n",
    "X = np.expand_dims(X, axis=2)\n",
    "\n",
    "\n",
    "X,Y=unison_shuffled_copies(X, Y)\n",
    "X,Y=unison_shuffled_copies(X, Y)\n",
    "# Split the dataset\n",
    "split_train = int(len(X)*0.9)\n",
    "split_valid = int(len(X)*0.98)\n",
    "\n",
    "# Train\n",
    "X_train = X[:split_train, :]; y_train=Y[:split_train, :]\n",
    "\n",
    "# Valid\n",
    "X_valid = X[split_train:split_valid,:]; y_valid=Y[split_train:split_valid,:]\n",
    "\n",
    "# Test\n",
    "X_test = X[split_valid:,:]; y_test=Y[split_valid:,:]\n",
    "   \n",
    "print(X_train.shape, y_train.shape)\n",
    "print(X_valid.shape, y_valid.shape)\n",
    "print(X_test.shape, y_test.shape)\n"
   ]
  },
  {
   "cell_type": "code",
   "execution_count": 28,
   "metadata": {},
   "outputs": [],
   "source": [
    "from tensorflow.keras.optimizers import SGD,Adam\n",
    "\n",
    "\n",
    "input_shape=[num_par,1]\n",
    "activators=['linear','elu','selu','softplus','swish','softsign','relu','tanh','linear']\n",
    "\n",
    "\n",
    "\n",
    "conv1d_first_layer_filters=86\n",
    "conv1d_second_layer_filters=43\n",
    "conv1d_third_layer_filters=21\n",
    "\n",
    "conv1d_first_layer_kernel=7\n",
    "conv1d_second_layer_kernel=3\n",
    "conv1d_third_layer_kernel=1\n",
    "\n",
    "strider=2\n",
    "\n",
    "act_conv1d_first_layer='tanh'\n",
    "act_conv1d_second_layer='swish'\n",
    "act_conv1d_third_layer='swish'\n",
    "\n",
    "seond_last_dense_num=710\n",
    "act_second_last_dense='tanh'\n",
    "\n",
    "def main_approximator(inputs):\n",
    "        x= Conv1D(filters=conv1d_first_layer_filters, kernel_size=conv1d_first_layer_kernel,\n",
    "                strides=strider, padding=\"causal\",\n",
    "                activation=act_conv1d_first_layer)(inputs)\n",
    "        # x=MaxPooling1D()(x)\n",
    "        # x=Dropout(0.1)(x)\n",
    "        x= BatchNormalization()(x)\n",
    "        x= Conv1D(filters=conv1d_second_layer_filters, kernel_size=conv1d_second_layer_kernel,\n",
    "                strides=strider,\n",
    "                activation=act_conv1d_second_layer)(x)\n",
    "        # x=MaxPooling1D()(x)\n",
    "        # x=Dropout(0.1)(x)\n",
    "        x=BatchNormalization()(x)\n",
    "        x= Conv1D(filters=conv1d_third_layer_filters, kernel_size=conv1d_third_layer_kernel,\n",
    "                strides=strider,\n",
    "                activation=act_conv1d_third_layer)(x)\n",
    "        # x=Dropout(0.1)(x)\n",
    "        # x=MaxPooling1D()(x)\n",
    "        x=LayerNormalization()(x)\n",
    "        x= GRU(100, return_sequences=True)(x)\n",
    "        x= GRU(20, return_sequences=True)(x)\n",
    "        x= Flatten()(x)\n",
    "        x= Dense(seond_last_dense_num, activation=act_second_last_dense) (x)\n",
    "        # x = Dropout(0.7)(x)\n",
    "        # # x=BatchNormalization()(x)\n",
    "        # x= Dense(600*2, activation='linear') (x)\n",
    "        x= Dense(num_par, activation='linear')(x)\n",
    "        return x\n",
    "\n",
    "def build_model(\n",
    "        input_shape\n",
    "):\n",
    "        inputs = keras.Input(shape=input_shape)\n",
    "        x = inputs\n",
    "\n",
    "        # x=LayerNormalization()(x)\n",
    "        x=1/0.05*tf.math.atanh(x)\n",
    "        x= main_approximator(x)\n",
    "        outputs=x\n",
    "        return keras.Model(inputs, outputs)\n",
    "\n",
    "model = build_model(\n",
    "        input_shape,\n",
    ")\n",
    "\n",
    "model.compile(loss='mse', optimizer=Adam(learning_rate=1e-3), metrics=['accuracy'])\n",
    "history=model.fit(X_train, y_train, batch_size=64*4,verbose=0, epochs=200, validation_data=(X_valid, y_valid))\n",
    "acc = history.history['accuracy']\n",
    "val_acc = history.history['val_accuracy']\n",
    "\n",
    "\n",
    "loss = history.history['loss']\n",
    "val_loss = history.history['val_loss']\n",
    "# model.save('deformer_models/deformer'+str(indexer)+'.h5')\n",
    "\n",
    "\n"
   ]
  },
  {
   "cell_type": "code",
   "execution_count": 29,
   "metadata": {},
   "outputs": [
    {
     "data": {
      "text/plain": [
       "<matplotlib.legend.Legend at 0x1e040bbc7c0>"
      ]
     },
     "execution_count": 29,
     "metadata": {},
     "output_type": "execute_result"
    },
    {
     "data": {
      "image/png": "[encoded data removed]",
      "text/plain": [
       "<Figure size 432x288 with 1 Axes>"
      ]
     },
     "metadata": {},
     "output_type": "display_data"
    },
    {
     "data": {
      "image/png": "[encoded data removed]",
      "text/plain": [
       "<Figure size 432x288 with 1 Axes>"
      ]
     },
     "metadata": {},
     "output_type": "display_data"
    }
   ],
   "source": [
    "import matplotlib.pyplot as plt\n",
    "from matplotlib.pyplot import figure\n",
    "import seaborn as sns\n",
    "\n",
    "# Apply the default theme\n",
    "sns.set_theme()\n",
    "\n",
    "plt.figure()\n",
    "acc = history.history['accuracy']\n",
    "val_acc = history.history['val_accuracy']\n",
    "\n",
    "\n",
    "loss = history.history['loss']\n",
    "val_loss = history.history['val_loss']\n",
    "\n",
    "\n",
    "epochs = range(len(acc))\n",
    "\n",
    "plt.plot(epochs, acc,label='train')\n",
    "plt.plot(epochs, val_acc,label='validation')\n",
    "plt.title('Accuracy')\n",
    "plt.legend()\n",
    "plt.grid(True)\n",
    "\n",
    "plt.figure()\n",
    "\n",
    "plt.plot(epochs, loss,label='training')\n",
    "plt.plot(epochs, val_loss,label='validation')\n",
    "plt.title('Loss')\n",
    "plt.grid(True)\n",
    "plt.legend()"
   ]
  },
  {
   "cell_type": "code",
   "execution_count": 30,
   "metadata": {},
   "outputs": [],
   "source": [
    "# model.save('deformer.h5')"
   ]
  }
 ],
 "metadata": {
  "kernelspec": {
   "display_name": "Python 3.9.7 ('base')",
   "language": "python",
   "name": "python3"
  },
  "language_info": {
   "codemirror_mode": {
    "name": "ipython",
    "version": 3
   },
   "file_extension": ".py",
   "mimetype": "text/x-python",
   "name": "python",
   "nbconvert_exporter": "python",
   "pygments_lexer": "ipython3",
   "version": "3.9.7"
  },
  "orig_nbformat": 4,
  "vscode": {
   "interpreter": {
    "hash": "900319d10e44314f6b60bc90e5bd7346f614de9c8cac248c09f743c4d5156675"
   }
  }
 },
 "nbformat": 4,
 "nbformat_minor": 2
}
