{
 "cells": [
  {
   "cell_type": "code",
   "execution_count": 1,
   "metadata": {},
   "outputs": [
    {
     "name": "stderr",
     "output_type": "stream",
     "text": [
      "C:\\Users\\junaid\\AppData\\Local\\Temp/ipykernel_18232/2858456303.py:24: SettingWithCopyWarning: \n",
      "A value is trying to be set on a copy of a slice from a DataFrame.\n",
      "Try using .loc[row_indexer,col_indexer] = value instead\n",
      "\n",
      "See the caveats in the documentation: https://pandas.pydata.org/pandas-docs/stable/user_guide/indexing.html#returning-a-view-versus-a-copy\n",
      "  df2[\"DATE\"] = df2[\"DATE\"].apply(parse)\n"
     ]
    },
    {
     "data": {
      "text/plain": [
       "343"
      ]
     },
     "execution_count": 1,
     "metadata": {},
     "output_type": "execute_result"
    }
   ],
   "source": [
    "import pandas as pd\n",
    "from datetime import datetime\n",
    "import numpy as np\n",
    "\n",
    "\n",
    "df_columns = [ \"DATE\", \"MVAR1\", \"MVAR2\", \"MVAR3\", \"MVAR4\",\"ISO3\", \"OVAR1\", \"OVAR3\", \"OVAR5\", \"OVAR7\", \"OVAR11\", \"OVAR13\", \"OVAR15\", \"OVAR21\", \"OVAR24\", \"OVAR40\"]\n",
    "# Source: https://sites.google.com/view/snuaric/data/covid-19-data/covid-19-data?authuser=0\n",
    "# ISO3 is a country variable\n",
    "\n",
    "# data gotten from https://www.worldometers.info/world-population/south-korea-population/\n",
    "korean_population=51343545   # Friday, March 11, 2022\n",
    "\n",
    "#MVAR1= Cum Confirmed cases\n",
    "#MVAR2= Cum Deaths Cases\n",
    "#MVAR3= Cum Recovered Cases\n",
    "#MVAR4= Quarantined Cases\n",
    "\n",
    "df = pd.read_csv(\"D:\\Research_work\\covid_parameters_2\\dataset_prepare\\covid_de_world.csv\", header=0, usecols=df_columns)\n",
    "\n",
    "df2 = df[df[\"ISO3\"] == \"KOR\"]\n",
    "def parse(x):\n",
    "\treturn datetime.strptime(x, '%d%b%y')\n",
    "\n",
    "df2[\"DATE\"] = df2[\"DATE\"].apply(parse)\n",
    "# target is AVAR1 which is newly confirmed cases\n",
    "df_new = df.set_index('DATE')\n",
    "df2=df2.sort_values(by=['DATE'], ascending=True)\n",
    "\n",
    "df2.drop(df2.head(25+2).index,inplace=True) # drop last n rows\n",
    "df2.drop(df2.tail(499).index,inplace=True) # drop last n rows\n",
    "dates=df2[\"DATE\"][0:-1].tolist()\n",
    "\n",
    "len(df2)"
   ]
  },
  {
   "cell_type": "code",
   "execution_count": 2,
   "metadata": {},
   "outputs": [],
   "source": [
    "df_new = df.set_index('DATE')\n",
    "\n",
    "#Cummulative numbers\n",
    "infected_cum=df2[['MVAR1']].to_numpy()\n",
    "quarantined_cum=df2[['MVAR4']].to_numpy()\n",
    "deceased_cum=df2[['MVAR2']].to_numpy()\n",
    "recovered_cum=df2[['MVAR3']].to_numpy()\n",
    "\n",
    "pol1=df2[['OVAR1']][0:-1].to_numpy()\n",
    "pol2=df2[['OVAR3']][0:-1].to_numpy()\n",
    "pol3=df2[['OVAR5']][0:-1].to_numpy()\n",
    "pol4=df2[['OVAR7']][0:-1].to_numpy()\n",
    "pol5=df2[['OVAR11']][0:-1].to_numpy()\n",
    "pol6=df2[['OVAR13']][0:-1].to_numpy()\n",
    "pol7=df2[['OVAR15']][0:-1].to_numpy()\n",
    "pol8=df2[['OVAR21']][0:-1].to_numpy()\n",
    "pol9=df2[['OVAR24']][0:-1].to_numpy()\n",
    "pol10=df2[['OVAR40']][0:-1].to_numpy()\n",
    "\n",
    "\n",
    "\n",
    "#Daily numbers\n",
    "infected=infected_cum[1:len(infected_cum)]-infected_cum[0:len(infected_cum)-1]\n",
    "quarantined=quarantined_cum[0:len(infected_cum)-1]\n",
    "deceased=deceased_cum[1:len(deceased_cum)]-deceased_cum[0:len(deceased_cum)-1]\n",
    "recovered=recovered_cum[1:len(recovered_cum)]-recovered_cum[0:len(recovered_cum)-1]\n",
    "\n",
    "\n",
    "oner=np.ones((len(infected),1))\n",
    "residual=infected+quarantined+deceased+recovered\n",
    "susceptible=korean_population*oner-residual\n",
    "days=np.arange(len(infected))"
   ]
  },
  {
   "cell_type": "code",
   "execution_count": 3,
   "metadata": {},
   "outputs": [
    {
     "name": "stdout",
     "output_type": "stream",
     "text": [
      "0.0\n",
      "0.0\n",
      "0.0\n",
      "0.0\n",
      "51323977.82377621\n"
     ]
    }
   ],
   "source": [
    "from scipy.signal import savgol_filter\n",
    "from scipy.interpolate import CubicSpline\n",
    "\n",
    "\n",
    "sampling_fact=10;  # defining factor\n",
    "\n",
    "######defining factors##########\n",
    "window_len=11\n",
    "degree_poly=2\n",
    "sampling_fact=3;\n",
    "################\n",
    "\n",
    "\n",
    "#SIQRD model states:\n",
    "\n",
    "#Susceptible\n",
    "sig=np.squeeze(susceptible)\n",
    "smooth_sig=savgol_filter(sig,window_len,degree_poly)\n",
    "cp_sig = CubicSpline(days[0:len(days):sampling_fact],smooth_sig[0:len(days):sampling_fact])\n",
    "cubic_sig_p=cp_sig(days)\n",
    "if np.min(cubic_sig_p)<0:\n",
    "    cubic_sig_p=cubic_sig_p+np.abs(np.min(cubic_sig_p)) \n",
    "S=cubic_sig_p\n",
    "\n",
    "\n",
    "#Infected\n",
    "sig=np.squeeze(infected)\n",
    "smooth_sig=savgol_filter(sig,window_len,degree_poly)\n",
    "cp_sig = CubicSpline(days[0:len(days):sampling_fact],smooth_sig[0:len(days):sampling_fact])\n",
    "cubic_sig_p=cp_sig(days)\n",
    "if np.min(cubic_sig_p)<0:\n",
    "    cubic_sig_p=cubic_sig_p+np.abs(np.min(cubic_sig_p))\n",
    "I=cubic_sig_p\n",
    "\n",
    "#Quarantined\n",
    "sig=np.squeeze(quarantined)\n",
    "smooth_sig=savgol_filter(sig,window_len,degree_poly)\n",
    "cp_sig = CubicSpline(days[0:len(days):sampling_fact],smooth_sig[0:len(days):sampling_fact])\n",
    "cubic_sig_p=cp_sig(days)\n",
    "if np.min(cubic_sig_p)<0:\n",
    "    cubic_sig_p=cubic_sig_p+np.abs(np.min(cubic_sig_p))\n",
    "Q=cubic_sig_p\n",
    "\n",
    "#Recovered\n",
    "sig=np.squeeze(recovered)\n",
    "smooth_sig=savgol_filter(sig,window_len,degree_poly)\n",
    "cp_sig = CubicSpline(days[0:len(days):sampling_fact],smooth_sig[0:len(days):sampling_fact])\n",
    "cubic_sig_p=cp_sig(days)\n",
    "if np.min(cubic_sig_p)<0:\n",
    "    cubic_sig_p=cubic_sig_p+np.abs(np.min(cubic_sig_p))\n",
    "R=cubic_sig_p\n",
    "\n",
    "#Deceased\n",
    "sig=np.squeeze(deceased)\n",
    "smooth_sig=savgol_filter(sig,window_len,degree_poly)\n",
    "cp_sig = CubicSpline(days[0:len(days):sampling_fact],smooth_sig[0:len(days):sampling_fact])\n",
    "cubic_sig_p=cp_sig(days)\n",
    "if np.min(cubic_sig_p)<0:\n",
    "    cubic_sig_p=cubic_sig_p+np.abs(np.min(cubic_sig_p))\n",
    "D=cubic_sig_p\n",
    "\n",
    "data=[days,S,I,Q,R,D]\n",
    "data=np.array(np.transpose(data))\n",
    "\n",
    "print(np.min(I))\n",
    "print(np.min(Q))\n",
    "print(np.min(R))\n",
    "print(np.min(D))\n",
    "print(np.min(S))\n",
    "\n",
    "dataset = pd.DataFrame({ 'S': np.squeeze(S), 'I': np.squeeze(I), 'Q': np.squeeze(Q), 'R': np.squeeze(R), 'D': np.squeeze(D),\n",
    "                            'Pol1': np.squeeze(pol1), 'Pol2': np.squeeze(pol2), 'Pol3': np.squeeze(pol3), 'Pol4': np.squeeze(pol4), 'Pol5': np.squeeze(pol5),\n",
    "                            'Pol6': np.squeeze(pol6), 'Pol7': np.squeeze(pol7), 'Pol8': np.squeeze(pol8), 'Pol9': np.squeeze(pol9), 'Pol10': np.squeeze(pol10)})\n",
    "dataset.to_csv(\"states_data.csv\")\n"
   ]
  },
  {
   "cell_type": "code",
   "execution_count": 4,
   "metadata": {},
   "outputs": [],
   "source": [
    "dataset = pd.DataFrame({'DATE': dates, 'S': np.squeeze(S), 'I': np.squeeze(I), 'Q': np.squeeze(Q), 'R': np.squeeze(R), 'D': np.squeeze(D),\n",
    "                            'Pol1': np.squeeze(pol1), 'Pol2': np.squeeze(pol2), 'Pol3': np.squeeze(pol3), 'Pol4': np.squeeze(pol4), 'Pol5': np.squeeze(pol5),\n",
    "                            'Pol6': np.squeeze(pol6), 'Pol7': np.squeeze(pol7), 'Pol8': np.squeeze(pol8), 'Pol9': np.squeeze(pol9), 'Pol10': np.squeeze(pol10)})\n",
    "dataset.to_csv(\"states_data_with_dates.csv\")"
   ]
  }
 ],
 "metadata": {
  "kernelspec": {
   "display_name": "Python 3.9.7 ('base')",
   "language": "python",
   "name": "python3"
  },
  "language_info": {
   "codemirror_mode": {
    "name": "ipython",
    "version": 3
   },
   "file_extension": ".py",
   "mimetype": "text/x-python",
   "name": "python",
   "nbconvert_exporter": "python",
   "pygments_lexer": "ipython3",
   "version": "3.9.7"
  },
  "orig_nbformat": 4,
  "vscode": {
   "interpreter": {
    "hash": "900319d10e44314f6b60bc90e5bd7346f614de9c8cac248c09f743c4d5156675"
   }
  }
 },
 "nbformat": 4,
 "nbformat_minor": 2
}
