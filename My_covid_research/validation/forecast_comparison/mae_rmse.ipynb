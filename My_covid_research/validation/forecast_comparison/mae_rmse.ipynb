{
 "cells": [
  {
   "cell_type": "code",
   "execution_count": 10,
   "metadata": {},
   "outputs": [],
   "source": [
    "import numpy as np\n",
    "import matplotlib.pyplot as plt\n",
    "from numpy import genfromtxt\n",
    "from sklearn.metrics import mean_absolute_error, mean_squared_error\n",
    "\n",
    "\n",
    "ref_dat = genfromtxt(\"D:\\Research_work\\My_covid_research/approximation_model/future_data_ref.csv\", delimiter=',')\n",
    "\n",
    "proposed_dat = genfromtxt(\"D:\\Research_work\\My_covid_research/approximation_model/future_data_est.csv\", delimiter=',')\n",
    "\n",
    "\n"
   ]
  },
  {
   "cell_type": "code",
   "execution_count": 11,
   "metadata": {},
   "outputs": [
    {
     "name": "stdout",
     "output_type": "stream",
     "text": [
      "MAE of S: 138.79399233063063\n",
      "MAE of I: 43.58986083106877\n",
      "MAE of Q: 77.01706350124472\n",
      "MAE of R: 72.86578901408795\n",
      "MAE of D: 1.183862474245568\n",
      "RMSE of S: 162.385549453185\n",
      "RMSE of I: 60.11737189451763\n",
      "RMSE of Q: 104.25793385804108\n",
      "RMSE of R: 96.6149075735028\n",
      "RMSE of D: 1.206796772113423\n"
     ]
    }
   ],
   "source": [
    "\n",
    "S_p=proposed_dat[:,0]\n",
    "I_p=proposed_dat[:,1]\n",
    "Q_p=proposed_dat[:,2]\n",
    "R_p=proposed_dat[:,3]\n",
    "D_p=proposed_dat[:,4]\n",
    "\n",
    "S_r=ref_dat[:,0]\n",
    "I_r=ref_dat[:,1]\n",
    "Q_r=ref_dat[:,2]\n",
    "R_r=ref_dat[:,3]\n",
    "D_r=ref_dat[:,4]\n",
    "\n",
    "\n",
    "#calculate MAE of each state and print the result\n",
    "MAE_S=mean_absolute_error(S_r,S_p)\n",
    "MAE_I=mean_absolute_error(I_r,I_p)\n",
    "MAE_Q=mean_absolute_error(Q_r,Q_p)\n",
    "MAE_R=mean_absolute_error(R_r,R_p)\n",
    "MAE_D=mean_absolute_error(D_r,D_p)\n",
    "\n",
    "print(\"MAE of S:\",MAE_S)\n",
    "print(\"MAE of I:\",MAE_I)\n",
    "print(\"MAE of Q:\",MAE_Q)\n",
    "print(\"MAE of R:\",MAE_R)\n",
    "print(\"MAE of D:\",MAE_D)\n",
    "\n",
    "\n",
    "#calculate RMSE of each state and print the result\n",
    "RMSE_S=np.sqrt(mean_squared_error(S_r,S_p))\n",
    "RMSE_I=np.sqrt(mean_squared_error(I_r,I_p))\n",
    "RMSE_Q=np.sqrt(mean_squared_error(Q_r,Q_p))\n",
    "RMSE_R=np.sqrt(mean_squared_error(R_r,R_p))\n",
    "RMSE_D=np.sqrt(mean_squared_error(D_r,D_p))\n",
    "\n",
    "print(\"RMSE of S:\",RMSE_S)\n",
    "print(\"RMSE of I:\",RMSE_I)\n",
    "print(\"RMSE of Q:\",RMSE_Q)\n",
    "print(\"RMSE of R:\",RMSE_R)\n",
    "print(\"RMSE of D:\",RMSE_D)\n"
   ]
  }
 ],
 "metadata": {
  "kernelspec": {
   "display_name": "Python 3.9.7 ('base')",
   "language": "python",
   "name": "python3"
  },
  "language_info": {
   "codemirror_mode": {
    "name": "ipython",
    "version": 3
   },
   "file_extension": ".py",
   "mimetype": "text/x-python",
   "name": "python",
   "nbconvert_exporter": "python",
   "pygments_lexer": "ipython3",
   "version": "3.9.7"
  },
  "orig_nbformat": 4,
  "vscode": {
   "interpreter": {
    "hash": "900319d10e44314f6b60bc90e5bd7346f614de9c8cac248c09f743c4d5156675"
   }
  }
 },
 "nbformat": 4,
 "nbformat_minor": 2
}
