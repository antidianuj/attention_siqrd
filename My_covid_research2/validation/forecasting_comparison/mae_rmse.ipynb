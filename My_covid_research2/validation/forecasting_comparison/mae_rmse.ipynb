{
 "cells": [
  {
   "cell_type": "code",
   "execution_count": 1,
   "metadata": {},
   "outputs": [],
   "source": [
    "import numpy as np\n",
    "import matplotlib.pyplot as plt\n",
    "from numpy import genfromtxt\n",
    "from sklearn.metrics import mean_absolute_error, mean_squared_error\n",
    "\n",
    "\n",
    "ref_dat = genfromtxt(\"D:\\Research_work\\COVID_paper\\My_covid_research2/validation/forecasting/Transformer_validation_states.csv\", delimiter=',')\n",
    "ref_dat=ref_dat[1:,1:]\n",
    "\n",
    "\n",
    "proposed_dat = genfromtxt(\"D:\\Research_work\\COVID_paper\\My_covid_research2/approximation_model/future_data_est.csv\", delimiter=',')\n",
    "\n",
    "\n"
   ]
  },
  {
   "cell_type": "code",
   "execution_count": 2,
   "metadata": {},
   "outputs": [
    {
     "name": "stdout",
     "output_type": "stream",
     "text": [
      "MAE of S: 725.9587658852339\n",
      "MAE of I: 816.9348706411092\n",
      "MAE of Q: 651.024022290814\n",
      "MAE of R: 570.8644411537829\n",
      "MAE of D: 19.07889705035317\n",
      "RMSE of S: 776.9209353749658\n",
      "RMSE of I: 840.8742011224881\n",
      "RMSE of Q: 743.5868376814548\n",
      "RMSE of R: 648.5202203227747\n",
      "RMSE of D: 20.879354464910207\n"
     ]
    }
   ],
   "source": [
    "\n",
    "S_p=proposed_dat[:,0]\n",
    "I_p=proposed_dat[:,1]\n",
    "Q_p=proposed_dat[:,2]\n",
    "R_p=proposed_dat[:,3]\n",
    "D_p=proposed_dat[:,4]\n",
    "\n",
    "S_r=ref_dat[:,0]\n",
    "I_r=ref_dat[:,1]\n",
    "Q_r=ref_dat[:,2]\n",
    "R_r=ref_dat[:,3]\n",
    "D_r=ref_dat[:,4]\n",
    "\n",
    "\n",
    "#calculate MAE of each state and print the result\n",
    "MAE_S=mean_absolute_error(S_r,S_p)\n",
    "MAE_I=mean_absolute_error(I_r,I_p)\n",
    "MAE_Q=mean_absolute_error(Q_r,Q_p)\n",
    "MAE_R=mean_absolute_error(R_r,R_p)\n",
    "MAE_D=mean_absolute_error(D_r,D_p)\n",
    "\n",
    "print(\"MAE of S:\",MAE_S)\n",
    "print(\"MAE of I:\",MAE_I)\n",
    "print(\"MAE of Q:\",MAE_Q)\n",
    "print(\"MAE of R:\",MAE_R)\n",
    "print(\"MAE of D:\",MAE_D)\n",
    "\n",
    "\n",
    "#calculate RMSE of each state and print the result\n",
    "RMSE_S=np.sqrt(mean_squared_error(S_r,S_p))\n",
    "RMSE_I=np.sqrt(mean_squared_error(I_r,I_p))\n",
    "RMSE_Q=np.sqrt(mean_squared_error(Q_r,Q_p))\n",
    "RMSE_R=np.sqrt(mean_squared_error(R_r,R_p))\n",
    "RMSE_D=np.sqrt(mean_squared_error(D_r,D_p))\n",
    "\n",
    "print(\"RMSE of S:\",RMSE_S)\n",
    "print(\"RMSE of I:\",RMSE_I)\n",
    "print(\"RMSE of Q:\",RMSE_Q)\n",
    "print(\"RMSE of R:\",RMSE_R)\n",
    "print(\"RMSE of D:\",RMSE_D)\n"
   ]
  }
 ],
 "metadata": {
  "kernelspec": {
   "display_name": "Python 3.9.7 ('base')",
   "language": "python",
   "name": "python3"
  },
  "language_info": {
   "codemirror_mode": {
    "name": "ipython",
    "version": 3
   },
   "file_extension": ".py",
   "mimetype": "text/x-python",
   "name": "python",
   "nbconvert_exporter": "python",
   "pygments_lexer": "ipython3",
   "version": "3.9.7"
  },
  "orig_nbformat": 4,
  "vscode": {
   "interpreter": {
    "hash": "900319d10e44314f6b60bc90e5bd7346f614de9c8cac248c09f743c4d5156675"
   }
  }
 },
 "nbformat": 4,
 "nbformat_minor": 2
}
